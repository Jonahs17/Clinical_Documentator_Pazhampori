{
  "nbformat": 4,
  "nbformat_minor": 0,
  "metadata": {
    "colab": {
      "provenance": [],
      "authorship_tag": "ABX9TyOVA/kVE9AwkyXf5N2a8RSI"
    },
    "kernelspec": {
      "name": "python3",
      "display_name": "Python 3"
    },
    "language_info": {
      "name": "python"
    },
    "accelerator": "GPU",
    "gpuClass": "standard"
  },
  "cells": [
    {
      "cell_type": "code",
      "execution_count": 15,
      "metadata": {
        "id": "yaIeYmpabxst"
      },
      "outputs": [],
      "source": [
        "\n",
        "!pip install -q gradio\n",
        "!pip install -q pyChatGPT\n",
        "!pip install -q fpdf\n",
        "!pip install -q SpeechRecognition"
      ]
    },
    {
      "cell_type": "code",
      "source": [
        "import gradio as gr\n",
        "import time\n",
        "from pyChatGPT import ChatGPT\n",
        "import warnings\n",
        "import json\n",
        "import os\n",
        "from fpdf import FPDF\n",
        "import speech_recognition as sr\n"
      ],
      "metadata": {
        "id": "wA9sktosdMS-"
      },
      "execution_count": 16,
      "outputs": []
    },
    {
      "cell_type": "markdown",
      "source": [
        "### Defining variables"
      ],
      "metadata": {
        "id": "a7A73xSBfuQo"
      }
    },
    {
      "cell_type": "code",
      "source": [
        "warnings.filterwarnings(\"ignore\")"
      ],
      "metadata": {
        "id": "6cxA9cGkdwKU"
      },
      "execution_count": 17,
      "outputs": []
    },
    {
      "cell_type": "markdown",
      "source": [
        "# Transcribe Function"
      ],
      "metadata": {
        "id": "CtsuugUrhccA"
      }
    },
    {
      "cell_type": "code",
      "source": [
        "# Initialize the speech recognizer\n",
        "r = sr.Recognizer()\n",
        "\n",
        "def transcribe_audio(audio):\n",
        "    \"\"\"\n",
        "    This function transcribes the audio recording into text using speech recognition.\n",
        "    \"\"\"\n",
        "    with sr.AudioFile(audio) as source:\n",
        "        audio_data = r.record(source)  # read the entire audio file\n",
        "        result_text = r.recognize_google(audio_data)  # use Google Speech Recognition to transcribe the audio\n",
        "        return result_text\n",
        "\n",
        "    # Pass the generated text to Audio\n",
        "    chatgpt_api = ChatGPT(\"Enter your OpenAI API Key\")\n",
        "   \n",
        "    resp = chatgpt_api.send_message(result_text)\n",
        "    out_result = resp['message']\n",
        "\n",
        "    return [result_text, out_result]"
      ],
      "metadata": {
        "id": "3va55YqThiYB"
      },
      "execution_count": 18,
      "outputs": []
    },
    {
      "cell_type": "code",
      "source": [],
      "metadata": {
        "id": "NnXP8RgvD1Sk"
      },
      "execution_count": null,
      "outputs": []
    },
    {
      "cell_type": "markdown",
      "source": [
        "# Gradio Interface"
      ],
      "metadata": {
        "id": "lmfdR8MXkFVg"
      }
    },
    {
      "cell_type": "code",
      "source": [
        "result_text = gr.Textbox(label=\"Speech to Text\")\n",
        "out_result = gr.Textbox(label=\"ChatGPT Output\")\n",
        "\n",
        "\n",
        "gr.Interface(\n",
        "    title = 'OpenAI Whisper and ChatGPT ASR Gradio Web UI', \n",
        "    fn=transcribe_audio, \n",
        "    inputs=[\n",
        "        gr.inputs.Audio(source=\"microphone\", type=\"filepath\")\n",
        "    ],\n",
        "\n",
        "    outputs=[\n",
        "        result_text, out_result\n",
        "    ],\n",
        "    live=True).launch()"
      ],
      "metadata": {
        "colab": {
          "base_uri": "https://localhost:8080/",
          "height": 616
        },
        "id": "h9pQDYt3kKPQ",
        "outputId": "c41d1bab-b9be-4920-de36-9dbc813c0a21"
      },
      "execution_count": 19,
      "outputs": [
        {
          "output_type": "stream",
          "name": "stdout",
          "text": [
            "Colab notebook detected. To show errors in colab notebook, set debug=True in launch()\n",
            "Note: opening Chrome Inspector may crash demo inside Colab notebooks.\n",
            "\n",
            "To create a public link, set `share=True` in `launch()`.\n"
          ]
        },
        {
          "output_type": "display_data",
          "data": {
            "text/plain": [
              "<IPython.core.display.Javascript object>"
            ],
            "application/javascript": [
              "(async (port, path, width, height, cache, element) => {\n",
              "                        if (!google.colab.kernel.accessAllowed && !cache) {\n",
              "                            return;\n",
              "                        }\n",
              "                        element.appendChild(document.createTextNode(''));\n",
              "                        const url = await google.colab.kernel.proxyPort(port, {cache});\n",
              "\n",
              "                        const external_link = document.createElement('div');\n",
              "                        external_link.innerHTML = `\n",
              "                            <div style=\"font-family: monospace; margin-bottom: 0.5rem\">\n",
              "                                Running on <a href=${new URL(path, url).toString()} target=\"_blank\">\n",
              "                                    https://localhost:${port}${path}\n",
              "                                </a>\n",
              "                            </div>\n",
              "                        `;\n",
              "                        element.appendChild(external_link);\n",
              "\n",
              "                        const iframe = document.createElement('iframe');\n",
              "                        iframe.src = new URL(path, url).toString();\n",
              "                        iframe.height = height;\n",
              "                        iframe.allow = \"autoplay; camera; microphone; clipboard-read; clipboard-write;\"\n",
              "                        iframe.width = width;\n",
              "                        iframe.style.border = 0;\n",
              "                        element.appendChild(iframe);\n",
              "                    })(7864, \"/\", \"100%\", 500, false, window.element)"
            ]
          },
          "metadata": {}
        },
        {
          "output_type": "execute_result",
          "data": {
            "text/plain": []
          },
          "metadata": {},
          "execution_count": 19
        }
      ]
    }
  ]
}
